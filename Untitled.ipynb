{
 "cells": [
  {
   "cell_type": "code",
   "execution_count": 1,
   "id": "e0f6e39d",
   "metadata": {},
   "outputs": [
    {
     "data": {
      "text/html": [
       "<style>.container { width:100% !important; }</style>"
      ],
      "text/plain": [
       "<IPython.core.display.HTML object>"
      ]
     },
     "metadata": {},
     "output_type": "display_data"
    },
    {
     "data": {
      "text/html": [
       "<style>.output_result { max-width:100% !important; }</style>"
      ],
      "text/plain": [
       "<IPython.core.display.HTML object>"
      ]
     },
     "metadata": {},
     "output_type": "display_data"
    },
    {
     "data": {
      "text/plain": [
       "'text/html'"
      ]
     },
     "metadata": {},
     "output_type": "display_data"
    },
    {
     "data": {
      "text/plain": [
       "'<style>.container { width:100% !important; }</style>'"
      ]
     },
     "metadata": {},
     "output_type": "display_data"
    }
   ],
   "source": [
    "from IPython.core.display import display, HTML\n",
    "display(HTML(\"<style>.container { width:100% !important; }</style>\"))\n",
    "display(HTML(\"<style>.output_result { max-width:100% !important; }</style>\"))\n",
    "display(\"text/html\", \"<style>.container { width:100% !important; }</style>\")"
   ]
  },
  {
   "cell_type": "code",
   "execution_count": 2,
   "id": "6e5fe155",
   "metadata": {},
   "outputs": [
    {
     "name": "stdout",
     "output_type": "stream",
     "text": [
      "Current working directory: C:\\Users\\XMX1008\\Documents\\Bliss_2021_Q4_v1\n"
     ]
    }
   ],
   "source": [
    "import pandas as pd\n",
    "import re\n",
    "import sys\n",
    "import apiclient\n",
    "import os\n",
    "os.chdir('..')\n",
    "cwd = os.getcwd()\n",
    "print(\"Current working directory: {0}\".format(cwd))\n",
    "sys.path.insert(1, 'utils')\n",
    "#sys.path.insert(1, 'C:\\\\Users\\\\XMX1008\\\\Documents\\\\Bliss_2021_Q4_v1\\\\utils')\n",
    "import GoogleSheetsUtils as gsu"
   ]
  },
  {
   "cell_type": "code",
   "execution_count": 3,
   "id": "e552b334",
   "metadata": {},
   "outputs": [],
   "source": [
    "def get_sheet_titles(service,id_sheet):\n",
    "    sheet_metadata = service.spreadsheets().get(spreadsheetId=id_sheet).execute()\n",
    "    sheets = sheet_metadata.get('sheets', '')\n",
    "    sheet_titles=[] #Aquí se guardan todos los nombre de las hojas.\n",
    "    for sheet in sheets:\n",
    "        sheet_titles.append(sheet.get('properties').get('title'))\n",
    "    return sheet_titles"
   ]
  },
  {
   "cell_type": "code",
   "execution_count": 15,
   "id": "6ec20afc",
   "metadata": {},
   "outputs": [
    {
     "name": "stdout",
     "output_type": "stream",
     "text": [
      "['Plantilla', '1_pensionerspayments', '4_policyinsured', '2_pensionersloans', 'Hoja 8', '3_pensionissuingpayments', '5_beneficiaryrent', 'Numeración de jobs']\n"
     ]
    }
   ],
   "source": [
    "service=gsu.get_google_sheet_api()\n",
    "sheet_titles=get_sheet_titles(service,\"1mMGGjQ_D4K44qKnFas9KzAQF3jC-I7exqSdoUYiMEB0\")\n",
    "print(sheet_titles)"
   ]
  },
  {
   "cell_type": "code",
   "execution_count": 5,
   "id": "cdc36a02",
   "metadata": {},
   "outputs": [],
   "source": [
    "def get_data(service,sheet_title,id_sheet):\n",
    "     #Pestañas que tomaremos del spreadsheet.\n",
    "    dd_data_field = gsu.get_google_sheet(id_sheet, sheet_title)\n",
    "    data = dd_data_field.get('values', [])  #Obtiene los valores de la pestaña.\n",
    "    data_dataframe=pd.DataFrame(data[1:],columns=data[0])\n",
    "    return data_dataframe"
   ]
  },
  {
   "cell_type": "code",
   "execution_count": 20,
   "id": "3004dd7f",
   "metadata": {
    "scrolled": false
   },
   "outputs": [],
   "source": [
    "data=get_data(service,'3_pensionissuingpayments',\"1mMGGjQ_D4K44qKnFas9KzAQF3jC-I7exqSdoUYiMEB0\")"
   ]
  },
  {
   "cell_type": "code",
   "execution_count": 11,
   "id": "6ef626f4",
   "metadata": {},
   "outputs": [
    {
     "name": "stdout",
     "output_type": "stream",
     "text": [
      "  ODATE       JOB NUMBER      JOBNAME                            DESCRIPCION  \\\n",
      "0  2010  MCQZ9TPT    176  MCQZ9TPT176  Transmisión DataX TXT pensionersloans   \n",
      "1  2011  MCQZ9TPT    177  MCQZ9TPT177  Transmisión DataX TXT pensionersloans   \n",
      "2  2012  MCQZ9TPT    178  MCQZ9TPT178  Transmisión DataX TXT pensionersloans   \n",
      "3  2013  MCQZ9TPT    179  MCQZ9TPT179  Transmisión DataX TXT pensionersloans   \n",
      "4  2015  MCQZ9TPT    180  MCQZ9TPT180  Transmisión DataX TXT pensionersloans   \n",
      "\n",
      "  JOB DATAPROC_SENTRY_JOB_CMDLINE PARAMETROS_SENTRY_PARM  \\\n",
      "0         mcqz9_pensionersloans_0                          \n",
      "1         mcqz9_pensionersloans_0                          \n",
      "2         mcqz9_pensionersloans_0                          \n",
      "3         mcqz9_pensionersloans_0                          \n",
      "4         mcqz9_pensionersloans_0                          \n",
      "\n",
      "  CONDICIONES DE ENTRADA CONDICIÓN DE SALIDA  \\\n",
      "0                                MCQZ9TPT177   \n",
      "1                                MCQZ9TPT178   \n",
      "2                                MCQZ9TPT179   \n",
      "3                                MCQZ9TPT180   \n",
      "4                                MCQZ9TPT181   \n",
      "\n",
      "                      DESTINATARIOS ALERTA EJECUCIÓN TIPO  \n",
      "0  isaias.cruz.contractor@bbva.com\\nmiguelangelje...  TXT  \n",
      "1  isaias.cruz.contractor@bbva.com\\nmiguelangelje...  TXT  \n",
      "2  isaias.cruz.contractor@bbva.com\\nmiguelangelje...  TXT  \n",
      "3  isaias.cruz.contractor@bbva.com\\nmiguelangelje...  TXT  \n",
      "4  isaias.cruz.contractor@bbva.com\\nmiguelangelje...  TXT  \n"
     ]
    }
   ],
   "source": [
    "print(data.head(5))"
   ]
  },
  {
   "cell_type": "code",
   "execution_count": 8,
   "id": "0d8ad6b8",
   "metadata": {},
   "outputs": [],
   "source": [
    "def create_xml(data,mesh_name):    \n",
    "    xmx='XMX1008'\n",
    "    parent_folder='CR-MXCQZ9TMP-T02'\n",
    "    application='QZ9-MX-DATIOPEN'\n",
    "    sub_application='PENSIONES-DATIO-CCR-P'\n",
    "    namespace='mx.cqz9.app-id-70243.pro'\n",
    "\n",
    "    file=open(mesh_name,'w',encoding=\"utf-8\") #Crear/abrir file.\n",
    "\n",
    "    file.write('<?xml version=\"1.0\" encoding=\"utf-8\"?>\\n<!--Exported at 08-08-2021 21:47:25-->\\n'+\n",
    "        '<DEFTABLE xmlns:xsi=\"http://www.w3.org/2001/XMLSchema-instance\" xsi:noNamespaceSchemaLocation=\"Folder.xsd\">\\n'+\n",
    "        '\\t<FOLDER DATACENTER=\"CTM_CTRLMCCR\" VERSION=\"900\" PLATFORM=\"UNIX\" FOLDER_NAME=\"'+parent_folder+'\" FOLDER_ORDER_METHOD=\"PRUEBAS\" REAL_FOLDER_ID=\"0\" TYPE=\"1\">\\n\\n')\n",
    "\n",
    "    for index, row in data.iterrows():\n",
    "        if 'TP' not in row['JOB']: #El job NO es una transmisión:\n",
    "            print('*---------------------------------------')\n",
    "            file.write('\\t<JOB JOBISN=\"0\" APPLICATION=\"'+application+'\" SUB_APPLICATION=\"'+sub_application+'\" JOBNAME=\"'+row['JOBNAME']+'\" '+\n",
    "                'DESCRIPTION=\"'+row['DESCRIPCION']+'\" CREATED_BY=\"'+xmx+'\" RUN_AS=\"sentry\" CRITICAL=\"0\" TASKTYPE=\"Command\" CYCLIC=\"0\" '+\n",
    "                'NODEID=\"MX-SENTRY-00\" INTERVAL=\"00001M\" CMDLINE=\"/opt/datio/sentry-mx/dataproc_sentry.py %%SENTRY_JOB %%SENTRY_OPT \\'%%SENTRY_PARM\\'\" '+\n",
    "                'CONFIRM=\"0\" RETRO=\"0\" MAXWAIT=\"0\" MAXRERUN=\"0\" AUTOARCH=\"1\" MAXDAYS=\"0\" MAXRUNS=\"0\" DAYS=\"ALL\" WEEKDAYS=\"ALL\" '+\n",
    "                'JAN=\"1\" FEB=\"1\" MAR=\"1\" APR=\"1\" MAY=\"1\" JUN=\"1\" JUL=\"1\" AUG=\"1\" SEP=\"1\" OCT=\"1\" NOV=\"1\" DEC=\"1\" DAYS_AND_OR=\"O\" '+\n",
    "                'SHIFT=\"Ignore Job\" SHIFTNUM=\"+00\" SYSDB=\"1\" IND_CYCLIC=\"S\" CREATION_USER=\"'+xmx+'\" CREATION_DATE=\"20220208\" '+\n",
    "                'CREATION_TIME=\"101746\" RULE_BASED_CALENDAR_RELATIONSHIP=\"O\" APPL_TYPE=\"OS\" CM_VER=\"N/A\" MULTY_AGENT=\"N\" '+\n",
    "                'USE_INSTREAM_JCL=\"N\" VERSION_OPCODE=\"N\" IS_CURRENT_VERSION=\"Y\" VERSION_SERIAL=\"1\" VERSION_HOST=\"LER1XACCR01\" '+\n",
    "                'CYCLIC_TOLERANCE=\"0\" CYCLIC_TYPE=\"C\" PARENT_FOLDER=\"'+parent_folder+'\">\\n')\n",
    "            \n",
    "            file.write('\\t\\t<VARIABLE NAME=\"%%PARM1\" VALUE=\"'+row['ODATE']+'\" />\\n'+\n",
    "                '\\t\\t<VARIABLE NAME=\"%%SENTRY_JOB\" VALUE=\"-ns '+namespace+' -jn '+row['JOB DATAPROC_SENTRY_JOB_CMDLINE']+' -o %%ORDERID\" />\\n'+\n",
    "                '\\t\\t<VARIABLE NAME=\"%%SENTRY_OPT\" VALUE=\"-b\" />\\n'+\n",
    "                '\\t\\t<VARIABLE NAME=\"%%SENTRY_PARM\" VALUE=\"'+row['PARAMETROS_SENTRY_PARM']+'\" />\\n'+\n",
    "                '\\t\\t<QUANTITATIVE NAME=\"DATIO_SENTRY_MX\" QUANT=\"1\" ONFAIL=\"R\" ONOK=\"R\" />\\n')\n",
    "            \n",
    "        else: #El job es una transmisión:\n",
    "            print(\"/////////////////////////////////////////\")\n",
    "            file.write('\\t<JOB JOBISN=\"0\" APPLICATION=\"'+application+'\" SUB_APPLICATION=\"'+sub_application+'\" JOBNAME=\"'+row['JOBNAME']+'\" '+\n",
    "                'DESCRIPTION=\"'+row['DESCRIPCION']+'\" CREATED_BY=\"'+xmx+'\" RUN_AS=\"epsilon-ctlm\" CRITICAL=\"0\" TASKTYPE=\"Command\" CYCLIC=\"0\" '+ \n",
    "                'NODEID=\"lcvpmxaxft00\" INTERVAL=\"00001M\" CMDLINE=\"datax-agent --transferId '+row['JOB DATAPROC_SENTRY_JOB_CMDLINE']+' --namespace '+namespace+\n",
    "                ' --srcParam &quot;date:'+row['ODATE']+'&quot; --dstParam &quot;date:'+row['ODATE']+'&quot;\" '+\n",
    "                'CONFIRM=\"0\" RETRO=\"0\" MAXWAIT=\"0\" MAXRERUN=\"0\" AUTOARCH=\"0\" MAXDAYS=\"0\" MAXRUNS=\"0\" DAYS=\"ALL\" WEEKDAYS=\"ALL\" '+\n",
    "                'JAN=\"1\" FEB=\"1\" MAR=\"1\" APR=\"1\" MAY=\"1\" JUN=\"1\" JUL=\"1\" AUG=\"1\" SEP=\"1\" OCT=\"1\" NOV=\"1\" DEC=\"1\" DAYS_AND_OR=\"O\" '+\n",
    "                'SHIFT=\"Ignore Job\" SHIFTNUM=\"+00\" SYSDB=\"0\" IND_CYCLIC=\"S\" CREATION_USER=\"'+xmx+'\" CREATION_DATE=\"20220208\" '+\n",
    "                'CREATION_TIME=\"101746\" RULE_BASED_CALENDAR_RELATIONSHIP=\"O\" APPL_TYPE=\"OS\" MULTY_AGENT=\"N\" USE_INSTREAM_JCL=\"N\" '+\n",
    "                'VERSION_SERIAL=\"1\" CYCLIC_TOLERANCE=\"0\" CYCLIC_TYPE=\"S\" PARENT_FOLDER=\"'+parent_folder+'\">\\n')\n",
    "            #file.write('\\t\\t<VARIABLE NAME=\"%%PARM1\" VALUE=\"'+row['ODATE']+'\" />\\n')\n",
    "        '''\n",
    "        for rule in row['CONDICIONES DE ENTRADA'].split('\\n'):\n",
    "            if rule != \"\":\n",
    "                file.write('\\t\\t<INCOND NAME=\"'+rule+'\" ODATE=\"ODAT\" AND_OR=\"A\" />\\n')\n",
    "\n",
    "        for rule in row['CONDICIÓN DE SALIDA'].split('\\n'):\n",
    "            if rule != \"\":\n",
    "                file.write('\\t\\t<OUTCOND NAME=\"'+rule+'\" ODATE=\"ODAT\" SIGN=\"+\" />\\n')\n",
    "\n",
    "        for rule in row['CONDICIONES DE ENTRADA'].split('\\n'):\n",
    "            if rule != \"\":\n",
    "                file.write('\\t\\t<OUTCOND NAME=\"'+rule+'\" ODATE=\"ODAT\" SIGN=\"-\" />\\n')\n",
    "        '''\n",
    "        file.write('\\t\\t<ON STMT=\"*\" CODE=\"OK\">\\n'\n",
    "            '\\t\\t\\t<DOFORCEJOB TABLE_NAME=\"'+parent_folder+'\" NAME=\"'+row['CONDICIÓN DE SALIDA']+'\" ODATE=\"ODAT\" REMOTE=\"N\" />\\n'+\n",
    "            '\\t\\t\\t<DOMAIL URGENCY=\"R\" DEST=\"isaias.cruz.contractor@bbva.com;miguelangeljesus.ortega.contractor@bbva.com\" '+\n",
    "            'SUBJECT=\"0042El job %%JOBNAME ejecuto de forma correcta\" MESSAGE=\"0066El JOBNAME: %%JOBNAME '+\n",
    "            'ejecuto de forma correcta con ODATE: %%ODATE\" ATTACH_SYSOUT=\"N\" />\\n'+\n",
    "            '\\t\\t</ON>\\n'\n",
    "            '\\t\\t<ON STMT=\"*\" CODE=\"NOTOK\">\\n'\n",
    "            '\\t\\t\\t<DOFORCEJOB TABLE_NAME=\"'+parent_folder+'\" NAME=\"'+row['CONDICIÓN DE SALIDA']+'\" ODATE=\"ODAT\" REMOTE=\"N\" />\\n'+\n",
    "            '\\t\\t\\t<DOMAIL URGENCY=\"R\" DEST=\"isaias.cruz.contractor@bbva.com;miguelangeljesus.ortega.contractor@bbva.com\" '+\n",
    "            'SUBJECT=\"0038El job %%JOBNAME fallo en la ejecucion\" MESSAGE=\"0062Fallo el JOBNAME: %%JOBNAME '+\n",
    "            'en la ejecucion con ODATE: %%ODATE\" ATTACH_SYSOUT=\"Y\" />\\n'+\n",
    "            '\\t\\t</ON>\\n'+\n",
    "            '\\t\\t<ON STMT=\"*\" CODE=\"*Exit Code    = 1*\">\\n'+\n",
    "            '\\t\\t\\t<DOACTION ACTION=\"OK\" />\\n'+\n",
    "            '\\t\\t\\t<DOMAIL URGENCY=\"R\" DEST=\"isaias.cruz.contractor@bbva.com;miguelangeljesus.ortega.contractor@bbva.com\" '+ \n",
    "            'SUBJECT=\"0038El job %%JOBNAME fallo en la ejecucion\" MESSAGE=\"0062Fallo el JOBNAME: %%JOBNAME '+\n",
    "            'en la ejecucion con ODATE: %%ODATE\" ATTACH_SYSOUT=\"Y\" />\\n'+\n",
    "            '\\t\\t</ON>\\n')\n",
    "\n",
    "        file.write('\\t</JOB>\\n\\n')\n",
    "\n",
    "    file.write('\\t</FOLDER>\\n</DEFTABLE>')\n",
    "    file.close()"
   ]
  },
  {
   "cell_type": "code",
   "execution_count": 21,
   "id": "63902ef5",
   "metadata": {},
   "outputs": [
    {
     "name": "stdout",
     "output_type": "stream",
     "text": [
      "/////////////////////////////////////////\n",
      "/////////////////////////////////////////\n",
      "/////////////////////////////////////////\n",
      "/////////////////////////////////////////\n",
      "/////////////////////////////////////////\n",
      "/////////////////////////////////////////\n",
      "/////////////////////////////////////////\n",
      "/////////////////////////////////////////\n",
      "/////////////////////////////////////////\n",
      "/////////////////////////////////////////\n",
      "/////////////////////////////////////////\n",
      "/////////////////////////////////////////\n",
      "/////////////////////////////////////////\n",
      "/////////////////////////////////////////\n",
      "/////////////////////////////////////////\n",
      "/////////////////////////////////////////\n",
      "/////////////////////////////////////////\n",
      "/////////////////////////////////////////\n",
      "/////////////////////////////////////////\n",
      "/////////////////////////////////////////\n",
      "/////////////////////////////////////////\n",
      "/////////////////////////////////////////\n",
      "/////////////////////////////////////////\n",
      "*---------------------------------------\n",
      "*---------------------------------------\n",
      "*---------------------------------------\n",
      "*---------------------------------------\n",
      "*---------------------------------------\n",
      "*---------------------------------------\n",
      "*---------------------------------------\n",
      "*---------------------------------------\n",
      "*---------------------------------------\n",
      "*---------------------------------------\n",
      "*---------------------------------------\n",
      "*---------------------------------------\n",
      "*---------------------------------------\n",
      "*---------------------------------------\n",
      "*---------------------------------------\n",
      "*---------------------------------------\n",
      "*---------------------------------------\n",
      "*---------------------------------------\n",
      "*---------------------------------------\n",
      "*---------------------------------------\n",
      "*---------------------------------------\n",
      "*---------------------------------------\n",
      "*---------------------------------------\n",
      "*---------------------------------------\n",
      "*---------------------------------------\n",
      "*---------------------------------------\n",
      "*---------------------------------------\n",
      "*---------------------------------------\n",
      "*---------------------------------------\n",
      "*---------------------------------------\n",
      "*---------------------------------------\n",
      "*---------------------------------------\n",
      "*---------------------------------------\n",
      "*---------------------------------------\n",
      "*---------------------------------------\n",
      "*---------------------------------------\n",
      "*---------------------------------------\n",
      "*---------------------------------------\n",
      "*---------------------------------------\n",
      "*---------------------------------------\n",
      "*---------------------------------------\n",
      "*---------------------------------------\n",
      "*---------------------------------------\n",
      "*---------------------------------------\n",
      "*---------------------------------------\n",
      "*---------------------------------------\n",
      "*---------------------------------------\n",
      "*---------------------------------------\n",
      "*---------------------------------------\n",
      "*---------------------------------------\n",
      "*---------------------------------------\n",
      "*---------------------------------------\n",
      "*---------------------------------------\n",
      "*---------------------------------------\n",
      "*---------------------------------------\n",
      "*---------------------------------------\n",
      "*---------------------------------------\n",
      "*---------------------------------------\n",
      "*---------------------------------------\n",
      "*---------------------------------------\n",
      "*---------------------------------------\n",
      "*---------------------------------------\n",
      "*---------------------------------------\n",
      "*---------------------------------------\n",
      "*---------------------------------------\n",
      "*---------------------------------------\n",
      "*---------------------------------------\n",
      "*---------------------------------------\n",
      "*---------------------------------------\n",
      "*---------------------------------------\n",
      "*---------------------------------------\n",
      "*---------------------------------------\n",
      "*---------------------------------------\n",
      "*---------------------------------------\n",
      "*---------------------------------------\n",
      "*---------------------------------------\n",
      "*---------------------------------------\n",
      "*---------------------------------------\n",
      "*---------------------------------------\n",
      "*---------------------------------------\n",
      "*---------------------------------------\n",
      "*---------------------------------------\n",
      "*---------------------------------------\n",
      "*---------------------------------------\n",
      "*---------------------------------------\n",
      "*---------------------------------------\n",
      "*---------------------------------------\n",
      "*---------------------------------------\n",
      "*---------------------------------------\n",
      "*---------------------------------------\n",
      "*---------------------------------------\n",
      "*---------------------------------------\n"
     ]
    }
   ],
   "source": [
    "create_xml(data,'CR-MXCQZ9TMP-T02_3_pensionissuingpayments.xml')"
   ]
  },
  {
   "cell_type": "code",
   "execution_count": null,
   "id": "88e6875e",
   "metadata": {},
   "outputs": [],
   "source": [
    "#quitar el último doforce de cada cadena para no invocar toda la malla. Poner el timefrom de cada nodo inicial."
   ]
  },
  {
   "cell_type": "code",
   "execution_count": null,
   "id": "1c3ec285",
   "metadata": {},
   "outputs": [],
   "source": [
    "https://docs.google.com/document/d/1upzEIiOKgQYGE5ZLmIoIFdjAsALtfGgU-3EAGUwDlvY/edit#heading=h.peknbcggcj2h"
   ]
  }
 ],
 "metadata": {
  "kernelspec": {
   "display_name": "Python 3",
   "language": "python",
   "name": "python3"
  },
  "language_info": {
   "codemirror_mode": {
    "name": "ipython",
    "version": 3
   },
   "file_extension": ".py",
   "mimetype": "text/x-python",
   "name": "python",
   "nbconvert_exporter": "python",
   "pygments_lexer": "ipython3",
   "version": "3.8.8"
  }
 },
 "nbformat": 4,
 "nbformat_minor": 5
}
